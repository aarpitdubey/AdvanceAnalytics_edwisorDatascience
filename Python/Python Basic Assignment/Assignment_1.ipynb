{
  "nbformat": 4,
  "nbformat_minor": 0,
  "metadata": {
    "colab": {
      "name": "Assignment - 1.ipynb",
      "provenance": [],
      "collapsed_sections": [],
      "authorship_tag": "ABX9TyNTiZ1uy7QrtHri5vp9E91d",
      "include_colab_link": true
    },
    "kernelspec": {
      "name": "python3",
      "display_name": "Python 3"
    },
    "language_info": {
      "name": "python"
    }
  },
  "cells": [
    {
      "cell_type": "markdown",
      "metadata": {
        "id": "view-in-github",
        "colab_type": "text"
      },
      "source": [
        "<a href=\"https://colab.research.google.com/github/aarpitdubey/AdvanceAnalytics_edwisorDatascience/blob/master/Python/Python%20Basic%20Assignment/Assignment_1.ipynb\" target=\"_parent\"><img src=\"https://colab.research.google.com/assets/colab-badge.svg\" alt=\"Open In Colab\"/></a>"
      ]
    },
    {
      "cell_type": "markdown",
      "source": [
        "\n",
        "**Q 1. In the below elements which of them are values or an expression? eg:- values can be\n",
        "integer or string and expressions will be mathematical operators.<br><br>\n",
        "```*```\n",
        "&#39;```hello```\n",
        "&#39;\n",
        "```-87.8```\n",
        "```-```\n",
        "```/```\n",
        "```+```\n",
        "```6```**\n",
        "\n",
        "\n"
      ],
      "metadata": {
        "id": "PQHCqipTeb72"
      }
    },
    {
      "cell_type": "code",
      "execution_count": 1,
      "metadata": {
        "colab": {
          "base_uri": "https://localhost:8080/"
        },
        "id": "bBlX4n2PeQsO",
        "outputId": "e2485154-2ad4-46ed-f130-cf264ba1359e"
      },
      "outputs": [
        {
          "output_type": "stream",
          "name": "stdout",
          "text": [
            "* is an operator\n",
            "\n",
            "hello is an Expression\n",
            "\n",
            "-87.8 is an Expression\n",
            "\n",
            "- is an operator\n",
            "\n",
            "/ is an operator\n",
            "\n",
            "+ is an operator\n",
            "\n",
            "6 is an Expression\n",
            "\n"
          ]
        }
      ],
      "source": [
        "# let's consider all the given input as operator\n",
        "opr_ = ['*',\n",
        "'hello',\n",
        " -87.8,\n",
        "'-',\n",
        "'/',\n",
        "'+',\n",
        "6]\n",
        "\n",
        "for opr in opr_:\n",
        "  if(opr == '*' or opr == '-' or opr == '/'  or opr == '+'):\n",
        "    print(f\"{opr} is an operator\\n\")\n",
        "  else:\n",
        "    print(f\"{opr} is an Expression\\n\")"
      ]
    },
    {
      "cell_type": "markdown",
      "source": [
        "**Observation :** Hence, There are a total of 4 operators nad  3 expressions, They are:<br>\n",
        "**Operators :** ```*```, ```-```, ```/```, ```+```\n",
        "<br> ***Expressions :*** ```'hello'```, ```87.8```, ```6```"
      ],
      "metadata": {
        "id": "9wW3avgwnS0b"
      }
    },
    {
      "cell_type": "markdown",
      "source": [
        "**Q2. What is the difference between string and variable?**\n",
        "\n",
        "**Ans :** **Variable :** It is used to store information or data. It is like a **box** or a **bucket**, like **for example :** if you want to store water for washing cloths where you will store amount of water inside a bucket so, you can **use it after a particular time** in similar way, if we want to **store a data or information for reusability purpose**. Variable is an empty space where we filled data for te using it after a particular time. <br><br>\n",
        "**String :**It is a kind of data type or data or information itself which is a **sequence of characters** and can be easily stored inside a variable, it is usually enclosed by single ```' '``` or double quotes ```\" \"```"
      ],
      "metadata": {
        "id": "6dAQ22dkqoVo"
      }
    },
    {
      "cell_type": "code",
      "source": [
        "# Declaring a variable\n",
        "var = 'Some data has to be stored here'\n",
        "\n",
        "# variable declared for useability purpose\n",
        "print(f\"This print() use this variable value like here we call it, var = {var}.\")\n",
        "\n",
        "# We can store String Data inside a Variable\n",
        "print(f\"This print() use to show the stored value data type: {type(var)}, str means it is a String type data.\")"
      ],
      "metadata": {
        "colab": {
          "base_uri": "https://localhost:8080/"
        },
        "id": "o6hTBafkuVv-",
        "outputId": "533c067f-57f7-489d-ec9f-f0cf2b3562b5"
      },
      "execution_count": 2,
      "outputs": [
        {
          "output_type": "stream",
          "name": "stdout",
          "text": [
            "This print() use this variable value like here we call it, var = Some data has to be stored here.\n",
            "This print() use to show the stored value data type: <class 'str'>, str means it is a String type data.\n"
          ]
        }
      ]
    },
    {
      "cell_type": "code",
      "source": [
        "def error(err):\n",
        "    return \"\\033[38;2;{};{};{}m{} \\033[38;2;255;255;255m\".format(255, 0, 0, err)"
      ],
      "metadata": {
        "id": "ubrsLwc2xKrl"
      },
      "execution_count": 3,
      "outputs": []
    },
    {
      "cell_type": "markdown",
      "source": [
        "**Q3. Describe three different Data Types ?**\n",
        "\n",
        "**Ans:** There are three fundamental Data types in python are int, float, complex.\n",
        "\n",
        "**int data type:** We can use **int** data type to represent zero, positive or negative whole numbers (integral values) that are without any fractional part or unlimed precision<br><br>\n",
        "**float data type:** We can use float data type to represent floating point values (decimal values), he maximum size depends on your system. The float beyond its maximum size referred as \"inf\", \"Inf\", \"INFINITY\", or \"infinity\".<br><br>\n",
        "**complex data type:** Complex number is represented by complex class. It is specified as (real part) + (imaginary part) j. Both real and imaginary component are there but Real part is not mandatory to be present and for imaginary part otherthan 'j' as suffix wouldnot work at all. \n",
        "\n"
      ],
      "metadata": {
        "id": "yvYG2KXrtOCv"
      }
    },
    {
      "cell_type": "code",
      "source": [
        "# int data example\n",
        "int_frac = 1/2 # fraction value\n",
        "int_minus1 = -1\n",
        "int_1 = 1\n",
        "int_0 = 0\n",
        "if True: \n",
        "  print(f\"Interger of -1 value and type: {int_minus1}, {type(int_minus1)} \\\n",
        "  \\nInteger of 1 : {int_1} and, {type(int_1)}\\\n",
        "  \\nInteger of zeroth value : {int_0}, {type(int_0)}\\\n",
        "  \\nFor value = {int_frac} (0r) 1/2, it is False because the data type is {type(int_frac)}\")\n"
      ],
      "metadata": {
        "colab": {
          "base_uri": "https://localhost:8080/"
        },
        "id": "TtJ2z_C-qlPY",
        "outputId": "d475279c-5bbc-4492-aa00-bb96558712d4"
      },
      "execution_count": 4,
      "outputs": [
        {
          "output_type": "stream",
          "name": "stdout",
          "text": [
            "Interger of -1 value and type: -1, <class 'int'>   \n",
            "Integer of 1 : 1 and, <class 'int'>  \n",
            "Integer of zeroth value : 0, <class 'int'>  \n",
            "For value = 0.5 (0r) 1/2, it is False because the data type is <class 'float'>\n"
          ]
        }
      ]
    },
    {
      "cell_type": "code",
      "source": [
        "#Declaration of complex number\n",
        "cn = 1 + 2j\n",
        "print(f'{cn} is a {type(cn)} of data.')\n",
        "\n",
        "#Withon any  coefficient\n",
        "cn1 = 3j \n",
        "print(f'{cn1} is a {type(cn1)} of data.')\n"
      ],
      "metadata": {
        "colab": {
          "base_uri": "https://localhost:8080/"
        },
        "id": "ThkjdlVjw3f7",
        "outputId": "9c6a0b43-3d4b-4a7f-d6c1-a2b61beb8ebc"
      },
      "execution_count": 5,
      "outputs": [
        {
          "output_type": "stream",
          "name": "stdout",
          "text": [
            "(1+2j) is a <class 'complex'> of data.\n",
            "3j is a <class 'complex'> of data.\n"
          ]
        }
      ]
    },
    {
      "cell_type": "code",
      "source": [
        "  cn2 = 3 + 4k # We can't use f   \n",
        "  print(f'{cn2} is a {type(cn2)} of data.')"
      ],
      "metadata": {
        "colab": {
          "base_uri": "https://localhost:8080/",
          "height": 135
        },
        "id": "1f6T8wufTnSo",
        "outputId": "e999d97f-86de-4deb-9835-bc014050bc34"
      },
      "execution_count": 6,
      "outputs": [
        {
          "output_type": "error",
          "ename": "SyntaxError",
          "evalue": "ignored",
          "traceback": [
            "\u001b[0;36m  File \u001b[0;32m\"<ipython-input-6-6f61836d8e7c>\"\u001b[0;36m, line \u001b[0;32m1\u001b[0m\n\u001b[0;31m    cn2 = 3 + 4k # We can't use f\u001b[0m\n\u001b[0m               ^\u001b[0m\n\u001b[0;31mSyntaxError\u001b[0m\u001b[0;31m:\u001b[0m invalid syntax\n"
          ]
        }
      ]
    },
    {
      "cell_type": "markdown",
      "source": [
        "**OBSERVATION:**\n",
        "\n",
        "As we can see, complex number can be possible without real number or only with the imaginary part but it must have 'j' as suffix other than that gives SyntaxErrror."
      ],
      "metadata": {
        "id": "TlGjQ3HhKVfs"
      }
    },
    {
      "cell_type": "markdown",
      "source": [
        "**Q4. What is an expression made up of? What do all expressions do?**\n",
        "\n",
        "**Ans:** An expression is  a combination of numeric data, values, variables, operators, and, calls to functions.\n",
        "<br>\n",
        "\n",
        "Expressions need to be evaluated, if we see in python for printing an expression, the python interpreter has to evaluate the expression and display the resulted output."
      ],
      "metadata": {
        "id": "UYUMSGKuLFeU"
      }
    },
    {
      "cell_type": "code",
      "source": [
        "8*5+40-80 # This ia an expression and after evaluation the python interpreter shows 0 as result."
      ],
      "metadata": {
        "id": "dnlZMI4d0BIs",
        "colab": {
          "base_uri": "https://localhost:8080/"
        },
        "outputId": "85bc63a0-75c0-4e78-a413-53a0c28a81b2"
      },
      "execution_count": 7,
      "outputs": [
        {
          "output_type": "execute_result",
          "data": {
            "text/plain": [
              "0"
            ]
          },
          "metadata": {},
          "execution_count": 7
        }
      ]
    },
    {
      "cell_type": "markdown",
      "source": [
        "**Q5. This assignment statements, like spam = 10. What is the difference between an expression and a statement?**\n",
        "\n",
        "**Ans** An expression is a combination of numeric data, values, variables, operators, and, calls to functions.\n",
        "\n",
        "It is a mathematical statement.\n",
        "\n",
        "Expressions need to be evaluated, if we see in python for printing an expression, the python interpreter has to evaluate the expression and display the resulted output.\n",
        "\n",
        "**Eg :** 8*5+40-80, this is an expression which will return \"0\", as resultan output.\n",
        "\n",
        "Statement is a unit of code that has an effect (or) side-effect, like creating variable or displaying a value.\n",
        "\n",
        "When we type a statement , the python interpreter executes it without returning any resultant output or values.\n",
        "\n",
        "**Eg** : Variable Declaration and Assignment, If, elif, else etc are statement because they **do not return** any value"
      ],
      "metadata": {
        "id": "5-yO_AYjMoB-"
      }
    },
    {
      "cell_type": "code",
      "source": [
        "# Example\n",
        "\n",
        "8*5+40-80 #Is an Expression\n",
        "\n",
        "course_name = 'iNeuron: Full Stack Data Science Job Guaranteed Program' # Is a Statement\n",
        "\n",
        "print(\"Hi, Sudhansu Sir :)\") # Is Both an Expression and Statement"
      ],
      "metadata": {
        "colab": {
          "base_uri": "https://localhost:8080/"
        },
        "id": "dGCw3HTXMjAN",
        "outputId": "2422257e-0074-43d4-b428-efc42e265d9d"
      },
      "execution_count": 8,
      "outputs": [
        {
          "output_type": "stream",
          "name": "stdout",
          "text": [
            "Hi, Sudhansu Sir :)\n"
          ]
        }
      ]
    },
    {
      "cell_type": "markdown",
      "source": [
        "**Q6 .After running the following code, what does the variable bacon contain?**\n",
        "\n",
        "```bacon = 22``` <br>\n",
        "```bacon + 1```\n",
        "\n",
        "**Ans:** The variable ```bacon``` is set to ```22```. The expression ```bacon + 1``` doesnot re-assign the value in bacon (that would the case if the expression is like ```bacon = bacon + 1``` instead of ```bacon + 1```)\n",
        "\n",
        "\n",
        "\n",
        "\n",
        "\n"
      ],
      "metadata": {
        "id": "GGnXggfpQt_d"
      }
    },
    {
      "cell_type": "code",
      "source": [
        "# Case - 1:\n",
        "\n",
        "bacon = 22\n",
        "bacon + 1 # value is not stored\n",
        "print(bacon)"
      ],
      "metadata": {
        "colab": {
          "base_uri": "https://localhost:8080/"
        },
        "id": "RkSFXPg7ROkN",
        "outputId": "fa27cc0d-c26a-4915-c201-2342b739ba13"
      },
      "execution_count": 9,
      "outputs": [
        {
          "output_type": "stream",
          "name": "stdout",
          "text": [
            "22\n"
          ]
        }
      ]
    },
    {
      "cell_type": "code",
      "source": [
        "# Case - 2\n",
        "\n",
        "bacon = 22\n",
        "bacon += 1 # value is stored\n",
        "print(bacon)\n"
      ],
      "metadata": {
        "colab": {
          "base_uri": "https://localhost:8080/"
        },
        "id": "1pjB4VzbROhk",
        "outputId": "753fd284-0ba3-4830-b00b-46d4985039fd"
      },
      "execution_count": 10,
      "outputs": [
        {
          "output_type": "stream",
          "name": "stdout",
          "text": [
            "23\n"
          ]
        }
      ]
    },
    {
      "cell_type": "markdown",
      "source": [
        "**Q7. What should the values of the following two terms be?**\n",
        "\n",
        "```'spam' + 'spamspam'```<br>\n",
        "```'spam' * 3```\n",
        "\n",
        "**Ans:** Both expressions evaluate to the string **```'spam' + 'spamspam'```** where as the first expression follows ```String Concatenation``` and the second expression follows ```String Multiplication```"
      ],
      "metadata": {
        "id": "D0oqQnSvSaSv"
      }
    },
    {
      "cell_type": "code",
      "source": [
        "print('spam' + 'spamspam') # Concatenation\n",
        "print('spam' * 3) # multiplication"
      ],
      "metadata": {
        "colab": {
          "base_uri": "https://localhost:8080/"
        },
        "id": "VCcnyeAwMQLI",
        "outputId": "532e2cbb-e852-4165-8e03-3090dc391445"
      },
      "execution_count": 11,
      "outputs": [
        {
          "output_type": "stream",
          "name": "stdout",
          "text": [
            "spamspamspam\n",
            "spamspamspam\n"
          ]
        }
      ]
    },
    {
      "cell_type": "markdown",
      "source": [
        "**8. Why is eggs a valid variable name while 100 is invalid?**\n",
        "\n",
        "**Ans:** As per python, variable names cannot begin with a number. The python rules for naming a variable are :-\n",
        "\n",
        "1. Variable name must start with a letter (or) Underscore (_) character.\n",
        "2. Variable name cannot start with a number.\n",
        "3. Variable name can only contain alpha-numeric characters(A-z, 0-9) and underscore (_).\n",
        "4. Variable names are case-sensitive.\n",
        "<br>Eg: ```ineuron and INEURON``` both considered different variable by the python interpreter.\n",
        "5. Reserved keywords cannot be used as variable naming."
      ],
      "metadata": {
        "id": "jiVZ8psuUUIW"
      }
    },
    {
      "cell_type": "code",
      "source": [
        "# Example \n",
        "\n",
        "egg = 'ovum' # Valid variable initialization\n",
        "print(egg)"
      ],
      "metadata": {
        "colab": {
          "base_uri": "https://localhost:8080/"
        },
        "id": "DspNpSDkUFki",
        "outputId": "ca65af78-c6da-4a0c-eebc-caec37796f54"
      },
      "execution_count": 12,
      "outputs": [
        {
          "output_type": "stream",
          "name": "stdout",
          "text": [
            "ovum\n"
          ]
        }
      ]
    },
    {
      "cell_type": "code",
      "source": [
        "100 = 'Indian currency' # Invalid variable initialization\n",
        "print(100)"
      ],
      "metadata": {
        "colab": {
          "base_uri": "https://localhost:8080/",
          "height": 135
        },
        "id": "mpq695bEWhQg",
        "outputId": "6adf68b9-1d28-426b-8263-4769d48a5df6"
      },
      "execution_count": 13,
      "outputs": [
        {
          "output_type": "error",
          "ename": "SyntaxError",
          "evalue": "ignored",
          "traceback": [
            "\u001b[0;36m  File \u001b[0;32m\"<ipython-input-13-e0220aa4ce49>\"\u001b[0;36m, line \u001b[0;32m1\u001b[0m\n\u001b[0;31m    100 = 'Indian currency' # Invalid variable initialization\u001b[0m\n\u001b[0m                                                             ^\u001b[0m\n\u001b[0;31mSyntaxError\u001b[0m\u001b[0;31m:\u001b[0m can't assign to literal\n"
          ]
        }
      ]
    },
    {
      "cell_type": "code",
      "source": [
        "_SomeVar = 1 # Starting with Underscore(_) --> Valid\n",
        "print(_SomeVar)\n",
        "\n"
      ],
      "metadata": {
        "colab": {
          "base_uri": "https://localhost:8080/"
        },
        "id": "oaszQev6WrUo",
        "outputId": "804acb16-f4be-423d-cff1-53573248b03c"
      },
      "execution_count": 14,
      "outputs": [
        {
          "output_type": "stream",
          "name": "stdout",
          "text": [
            "1\n"
          ]
        }
      ]
    },
    {
      "cell_type": "code",
      "source": [
        "@SomeVar=1 # Starting with Special Character --> Invalid\n",
        "print(@SomeVar)"
      ],
      "metadata": {
        "colab": {
          "base_uri": "https://localhost:8080/",
          "height": 135
        },
        "id": "wBvQmNoCW_n-",
        "outputId": "68dec647-a1e0-4b81-b90f-b5c4869af6ee"
      },
      "execution_count": 15,
      "outputs": [
        {
          "output_type": "error",
          "ename": "SyntaxError",
          "evalue": "ignored",
          "traceback": [
            "\u001b[0;36m  File \u001b[0;32m\"<ipython-input-15-19ab4a044216>\"\u001b[0;36m, line \u001b[0;32m1\u001b[0m\n\u001b[0;31m    @SomeVar=1 # Starting with Special Character --> Invalid\u001b[0m\n\u001b[0m            ^\u001b[0m\n\u001b[0;31mSyntaxError\u001b[0m\u001b[0;31m:\u001b[0m invalid syntax\n"
          ]
        }
      ]
    },
    {
      "cell_type": "code",
      "source": [
        "var1 = 'ineuron'\n",
        "var2 = 'INEURON'\n",
        "\n",
        "print(var1 == var2) # Case Sensitive\n",
        "\n",
        "print(var1 == var2.lower())\n",
        "\n",
        "print(var1.upper() == var2)"
      ],
      "metadata": {
        "colab": {
          "base_uri": "https://localhost:8080/"
        },
        "id": "oU-rlNYHXhER",
        "outputId": "5323290a-b556-403e-ce42-7560374a4717"
      },
      "execution_count": 16,
      "outputs": [
        {
          "output_type": "stream",
          "name": "stdout",
          "text": [
            "False\n",
            "True\n",
            "True\n"
          ]
        }
      ]
    },
    {
      "cell_type": "code",
      "source": [
        "global = 1 # Reserved Keyword as Variable name --> Invalid\n",
        "print(global)"
      ],
      "metadata": {
        "colab": {
          "base_uri": "https://localhost:8080/",
          "height": 135
        },
        "id": "Lfsnq3PAXxVq",
        "outputId": "718c2321-b24e-4f7d-8afe-063a36dcfa9f"
      },
      "execution_count": 17,
      "outputs": [
        {
          "output_type": "error",
          "ename": "SyntaxError",
          "evalue": "ignored",
          "traceback": [
            "\u001b[0;36m  File \u001b[0;32m\"<ipython-input-17-8c187eaafd91>\"\u001b[0;36m, line \u001b[0;32m1\u001b[0m\n\u001b[0;31m    global = 1 # Reserved Keyword as Variable name --> Invalid\u001b[0m\n\u001b[0m           ^\u001b[0m\n\u001b[0;31mSyntaxError\u001b[0m\u001b[0;31m:\u001b[0m invalid syntax\n"
          ]
        }
      ]
    },
    {
      "cell_type": "markdown",
      "source": [
        "**Q9. What three functions can be used to get the integer,floating-point number,or string version of a value?**\n",
        "\n",
        "**Ans:** The ```int()```, ```float()```,and ```str()``` functions will evaluate to the integer,floating-point number,string version of the value passed to them."
      ],
      "metadata": {
        "id": "havDT9eeYtkO"
      }
    },
    {
      "cell_type": "code",
      "source": [
        "# Examples:\n",
        "print(f'int(10.0) -> {int(10.0)}') # int() function converts given input to int\n",
        "print(f'float(10) -> {float(10)}') # float() function converts given input to float\n",
        "print(f'str(10) -> {str(10)}') # str() function converts given input to string"
      ],
      "metadata": {
        "colab": {
          "base_uri": "https://localhost:8080/"
        },
        "id": "75kA02bWYoUp",
        "outputId": "affe06fd-c7ce-4443-ec7a-99a9efe4722d"
      },
      "execution_count": 18,
      "outputs": [
        {
          "output_type": "stream",
          "name": "stdout",
          "text": [
            "int(10.0) -> 10\n",
            "float(10) -> 10.0\n",
            "str(10) -> 10\n"
          ]
        }
      ]
    },
    {
      "cell_type": "markdown",
      "source": [
        "**Q10. Why does this expression cause an error? how can you fix it?**\n",
        "\n",
        "```'I have eaten ' + 99 + 'burritos.'```\n",
        "\n",
        "\n",
        "**Ans:** This cause of Error is 99, because 99 is not a string. \n",
        "\n",
        "99 must be typecasted to a string to fix this error. the correct way is:\n",
        "\n",
        "```Input: 'I have eaten ' + str(99) + 'burritos.'```\n",
        "\n",
        "```Output: 'I have eaten 99 burritos.'```"
      ],
      "metadata": {
        "id": "EWCv2eeuZUlO"
      }
    },
    {
      "cell_type": "code",
      "source": [
        "print('I have eaten '+str(99)+' burritos')\n"
      ],
      "metadata": {
        "colab": {
          "base_uri": "https://localhost:8080/"
        },
        "id": "eNx9nCAeZQgy",
        "outputId": "ab356983-bbd1-46b9-842d-484678922c30"
      },
      "execution_count": 19,
      "outputs": [
        {
          "output_type": "stream",
          "name": "stdout",
          "text": [
            "I have eaten 99 burritos\n"
          ]
        }
      ]
    }
  ]
}