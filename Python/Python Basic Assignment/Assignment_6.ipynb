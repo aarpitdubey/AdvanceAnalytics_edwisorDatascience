{
  "nbformat": 4,
  "nbformat_minor": 0,
  "metadata": {
    "colab": {
      "name": "Assignment_6.ipynb",
      "provenance": [],
      "collapsed_sections": [],
      "authorship_tag": "ABX9TyMCcJCrOfNR1BthMKt8xdOZ",
      "include_colab_link": true
    },
    "kernelspec": {
      "name": "python3",
      "display_name": "Python 3"
    },
    "language_info": {
      "name": "python"
    }
  },
  "cells": [
    {
      "cell_type": "markdown",
      "metadata": {
        "id": "view-in-github",
        "colab_type": "text"
      },
      "source": [
        "<a href=\"https://colab.research.google.com/github/aarpitdubey/AdvanceAnalytics_edwisorDatascience/blob/master/Python/Python%20Basic%20Assignment/Assignment_6.ipynb\" target=\"_parent\"><img src=\"https://colab.research.google.com/assets/colab-badge.svg\" alt=\"Open In Colab\"/></a>"
      ]
    },
    {
      "cell_type": "markdown",
      "source": [
        "####**Q1. What are escape characters, and how do you use them?**\n",
        "\n",
        "**Ans:** For inserting those characters that are iilegal or difficult in a string, uses escape character.\n",
        "\n",
        "An escape character is a backslash ```\\``` followed by the character you want to insert.\n",
        "\n",
        "**example:** ```\\t, \\n```"
      ],
      "metadata": {
        "id": "W_W2cIIUb-ez"
      }
    },
    {
      "cell_type": "markdown",
      "source": [
        "#### **Q2. What do the escape characters n and t stand for ?**\n",
        "\n",
        "**Ans:** ```\\n``` is a newline and, <br>\n",
        "      ```\\t``` is a tab"
      ],
      "metadata": {
        "id": "8soB3kZCb-hz"
      }
    },
    {
      "cell_type": "markdown",
      "source": [
        "####**Q3. What is the way to include backslash character in a string?**\n",
        "\n",
        "**Ans:** The ```\\\\``` escape character will represent the backslash character in s string."
      ],
      "metadata": {
        "id": "gf5U7s-Ob-kl"
      }
    },
    {
      "cell_type": "markdown",
      "source": [
        "####**Q4. The string \"Howl's Moving Castle\" is a correct value. Why isn't the single quote character in the word Howl's not escaped a problem ?**\n",
        "\n",
        "**Ans:** The string ``\"Howl's Moving Castle\"`` escaped the roblem because it is wraped inside double quotes, if its wrapped inside quotes then we have to use escape character ``\\'`` to show single qoute in the final output ``'Howl\\'s Moving Castle'`` ``->`` ``'Howl's Moving Castle'``"
      ],
      "metadata": {
        "id": "W66pxquAb-nL"
      }
    },
    {
      "cell_type": "markdown",
      "source": [
        "#### **Q5. How do you write a string of newlines if you don't want to use the n character?**\n",
        "\n",
        "**Ans:** Multiline string allow you to use newlines in string without the ``\\n`` escape character"
      ],
      "metadata": {
        "id": "g-Vt91QghX0s"
      }
    },
    {
      "cell_type": "code",
      "source": [
        "# Example:\n",
        "\n",
        "multiline_comment = '''iNeuron full stack\n",
        "Data Science Course'''\n",
        "\n",
        "print(multiline_comment)"
      ],
      "metadata": {
        "colab": {
          "base_uri": "https://localhost:8080/"
        },
        "id": "qFokBedOcBaT",
        "outputId": "4c59e917-1d11-4f33-c85f-c4475c3c2129"
      },
      "execution_count": 1,
      "outputs": [
        {
          "output_type": "stream",
          "name": "stdout",
          "text": [
            "iNeuron full stack\n",
            "Data Science Course\n"
          ]
        }
      ]
    },
    {
      "cell_type": "markdown",
      "source": [
        "#### **Q6. What are the values of the given expressions ?**\n",
        "\n",
        "'Hello, world!'[1]<br>\n",
        "'Hello, world!'[0:5]<br>\n",
        "'Hello, world!'[:5]<br>\n",
        "'Hello, world!'[3:]\n",
        "\n",
        "**Ans:** let see using coding:"
      ],
      "metadata": {
        "id": "lq7NgHkgiGHj"
      }
    },
    {
      "cell_type": "code",
      "source": [
        "input_str = 'Hello, world!'\n",
        "\n",
        "print(input_str)\n",
        "print(f\"'Hello, world!'[1] -> {input_str[1]}\")\n",
        "print(f\"'Hello, world!'[0:5] -> {input_str[0:5]}\")\n",
        "print(f\"'Hello, world!'[:5] -> {input_str[:5]}\")\n",
        "print(f\"'Hello, world!'[1] -> {input_str[3:]}\")"
      ],
      "metadata": {
        "colab": {
          "base_uri": "https://localhost:8080/"
        },
        "id": "961LWgcxcBdL",
        "outputId": "f7f2696f-0b75-46c5-dd6b-065ffcf789ab"
      },
      "execution_count": 4,
      "outputs": [
        {
          "output_type": "stream",
          "name": "stdout",
          "text": [
            "Hello, world!\n",
            "'Hello, world!'[1] -> e\n",
            "'Hello, world!'[0:5] -> Hello\n",
            "'Hello, world!'[:5] -> Hello\n",
            "'Hello, world!'[1] -> lo, world!\n"
          ]
        }
      ]
    },
    {
      "cell_type": "markdown",
      "source": [
        "####**Q7. What are the values of the following expressions ?**\n",
        "\n",
        "'Hello'.upper() <br>\n",
        "'Hello'.upper().isupper() <br>\n",
        "'Hello'.upper().lower()\n",
        "\n",
        "**Ans:** The values for the given expressions are:\n"
      ],
      "metadata": {
        "id": "vEtbEABvjoZ7"
      }
    },
    {
      "cell_type": "code",
      "source": [
        "input_str = 'Hello'\n",
        "\n",
        "print(input_str)\n",
        "print(f\"'Hello'.upper() -> {input_str.upper()}\")\n",
        "print(f\"'Hello, world!'[0:5] -> {input_str.upper().isupper()}\")\n",
        "print(f\"'Hello, world!'[:5] -> {input_str.upper().lower()}\")"
      ],
      "metadata": {
        "colab": {
          "base_uri": "https://localhost:8080/"
        },
        "id": "OaxScdogjl2s",
        "outputId": "9c73c10a-6394-402c-cff2-b2b5fefb5160"
      },
      "execution_count": 6,
      "outputs": [
        {
          "output_type": "stream",
          "name": "stdout",
          "text": [
            "Hello\n",
            "'Hello'.upper() -> HELLO\n",
            "'Hello, world!'[0:5] -> True\n",
            "'Hello, world!'[:5] -> hello\n"
          ]
        }
      ]
    },
    {
      "cell_type": "markdown",
      "source": [
        "####**Q8. What are the values of the following expressions ?**\n",
        "\n",
        "'Remember, remember, the fifith of July.'.split()'.join('There can only one'.split())\n",
        "\n",
        "**Ans:** let solve it through code.\n",
        "The values for the given expressions are:"
      ],
      "metadata": {
        "id": "7mHRMiLt0bkB"
      }
    },
    {
      "cell_type": "code",
      "source": [
        "'Remember, remember, the fifith of July.'.split()"
      ],
      "metadata": {
        "colab": {
          "base_uri": "https://localhost:8080/"
        },
        "id": "jFozApnkjl60",
        "outputId": "db009a8a-e2e0-4733-dbb3-db71a156dbb6"
      },
      "execution_count": 7,
      "outputs": [
        {
          "output_type": "execute_result",
          "data": {
            "text/plain": [
              "['Remember,', 'remember,', 'the', 'fifith', 'of', 'July.']"
            ]
          },
          "metadata": {},
          "execution_count": 7
        }
      ]
    },
    {
      "cell_type": "code",
      "source": [
        "'-'.join('There can only one'.split())"
      ],
      "metadata": {
        "colab": {
          "base_uri": "https://localhost:8080/",
          "height": 35
        },
        "id": "8c2E5rpwjl-d",
        "outputId": "d9e86be4-4f90-442b-ed49-2ab0cb679435"
      },
      "execution_count": 8,
      "outputs": [
        {
          "output_type": "execute_result",
          "data": {
            "text/plain": [
              "'There-can-only-one'"
            ],
            "application/vnd.google.colaboratory.intrinsic+json": {
              "type": "string"
            }
          },
          "metadata": {},
          "execution_count": 8
        }
      ]
    },
    {
      "cell_type": "markdown",
      "source": [
        "####**Q9. What are the methods for right-justifying, left-justifying and centering a string ?**\n",
        "\n",
        "**Ans:** we can use ```rjust()```, ``ljust()``, ``center()`` string methods, respectively"
      ],
      "metadata": {
        "id": "qGhFyq677yj4"
      }
    },
    {
      "cell_type": "code",
      "source": [
        "string='possible'\n",
        "\n",
        "print(f'string.rjust(20, \"*\") : {string.rjust(20, \"*\")}')\n",
        "print(f'string.rjust(20, \"*\") : {string.ljust(20, \"*\")}')\n",
        "print(f'string.rjust(20, \"*\") : {string.center(20, \"*\")}')"
      ],
      "metadata": {
        "colab": {
          "base_uri": "https://localhost:8080/"
        },
        "id": "7INmWEVoi-Hx",
        "outputId": "a1c81ecc-76c9-4a9c-d68f-ca1450781311"
      },
      "execution_count": 12,
      "outputs": [
        {
          "output_type": "stream",
          "name": "stdout",
          "text": [
            "string.rjust(20, \"*\") : ************possible\n",
            "string.rjust(20, \"*\") : possible************\n",
            "string.rjust(20, \"*\") : ******possible******\n"
          ]
        }
      ]
    },
    {
      "cell_type": "markdown",
      "source": [
        "**Q10. What is the best way to remove whitespace characters from the start or end ?**\n",
        "\n",
        "**Ans:** Best way to remove the whitespace character from  the left and right ends of a string respectively using the ``lstrip()\n",
        "`` and ``rstrip()``"
      ],
      "metadata": {
        "id": "avVNE68-AQwL"
      }
    },
    {
      "cell_type": "code",
      "source": [
        "str_1=\"               possible\"\n",
        "str_2=\"possible               \"\n",
        "\n",
        "print(f'str_1=\"               possible\" :  {str_1.lstrip()}')\n",
        "print(f'str_1=\"possible               \" :  {str_2.rstrip()}')"
      ],
      "metadata": {
        "colab": {
          "base_uri": "https://localhost:8080/"
        },
        "id": "O_dHAV8N_0pS",
        "outputId": "56cf80ee-bcba-4747-bdd5-a1ba491541d0"
      },
      "execution_count": 23,
      "outputs": [
        {
          "output_type": "stream",
          "name": "stdout",
          "text": [
            "str_1=\"               possible\" :  possible\n",
            "str_1=\"possible               \" :  possible\n"
          ]
        }
      ]
    }
  ]
}