{
  "nbformat": 4,
  "nbformat_minor": 0,
  "metadata": {
    "colab": {
      "provenance": [],
      "authorship_tag": "ABX9TyODSakcU9VDmZbwrQ2rXIDo",
      "include_colab_link": true
    },
    "kernelspec": {
      "name": "python3",
      "display_name": "Python 3"
    },
    "language_info": {
      "name": "python"
    }
  },
  "cells": [
    {
      "cell_type": "markdown",
      "metadata": {
        "id": "view-in-github",
        "colab_type": "text"
      },
      "source": [
        "<a href=\"https://colab.research.google.com/github/aarpitdubey/AdvanceAnalytics_edwisorDatascience/blob/master/Python/Python%20Basic%20Assignment/Programming_Assignments/Programming_Assignment_2_Solution_ipynb.ipynb\" target=\"_parent\"><img src=\"https://colab.research.google.com/assets/colab-badge.svg\" alt=\"Open In Colab\"/></a>"
      ]
    },
    {
      "cell_type": "markdown",
      "source": [
        "Q1. Write a Python program to convert kilometers to miles"
      ],
      "metadata": {
        "id": "RBRi2PxWT7vg"
      }
    },
    {
      "cell_type": "code",
      "execution_count": 1,
      "metadata": {
        "colab": {
          "base_uri": "https://localhost:8080/"
        },
        "id": "hsx5A6b8T1Sc",
        "outputId": "3ea6c4ef-4f64-4c04-ef44-3755d7f25983"
      },
      "outputs": [
        {
          "output_type": "stream",
          "name": "stdout",
          "text": [
            "Enter the distance in kilometers: 256.9\n",
            "Distance in miles: 159.63020989999998\n"
          ]
        }
      ],
      "source": [
        "kilometers = float(input(\"Enter the distance in kilometers: \"))\n",
        "miles = kilometers * 0.621371\n",
        "print(\"Distance in miles:\", miles)"
      ]
    },
    {
      "cell_type": "markdown",
      "source": [
        "Q2. Write a Python program to convert Celsius to Fahrenheit"
      ],
      "metadata": {
        "id": "XT-yg84wUCZn"
      }
    },
    {
      "cell_type": "code",
      "source": [
        "celsius = float(input(\"Enter the temperature in Celsius: \"))\n",
        "fahrenheit = (celsius * 9/5) + 32\n",
        "print(\"Temperature in Fahrenheit:\", fahrenheit)"
      ],
      "metadata": {
        "colab": {
          "base_uri": "https://localhost:8080/"
        },
        "id": "BMSKwD38UAqA",
        "outputId": "c4d902fd-2871-4a3a-8e4d-f2d7f8339135"
      },
      "execution_count": 2,
      "outputs": [
        {
          "output_type": "stream",
          "name": "stdout",
          "text": [
            "Enter the temperature in Celsius: 38\n",
            "Temperature in Fahrenheit: 100.4\n"
          ]
        }
      ]
    },
    {
      "cell_type": "markdown",
      "source": [
        "Q3. Write a Python program to display calendar"
      ],
      "metadata": {
        "id": "W3Y4dpX5UTY_"
      }
    },
    {
      "cell_type": "code",
      "source": [
        "import calendar\n",
        "\n",
        "year = int(input(\"Enter the year: \"))\n",
        "month = int(input(\"Enter the month: \\n\"))\n",
        "\n",
        "print(calendar.month(year, month))"
      ],
      "metadata": {
        "colab": {
          "base_uri": "https://localhost:8080/"
        },
        "id": "4TskDg9rUV1f",
        "outputId": "9c7efdd2-36ac-4ae3-bbc7-b36aa1ee0d61"
      },
      "execution_count": 3,
      "outputs": [
        {
          "output_type": "stream",
          "name": "stdout",
          "text": [
            "Enter the year: 2023\n",
            "Enter the month: \n",
            "07\n",
            "     July 2023\n",
            "Mo Tu We Th Fr Sa Su\n",
            "                1  2\n",
            " 3  4  5  6  7  8  9\n",
            "10 11 12 13 14 15 16\n",
            "17 18 19 20 21 22 23\n",
            "24 25 26 27 28 29 30\n",
            "31\n",
            "\n"
          ]
        }
      ]
    },
    {
      "cell_type": "markdown",
      "source": [
        "Q4. Write a Python program to solve quadratic equation"
      ],
      "metadata": {
        "id": "hOx7NWiIUsN3"
      }
    },
    {
      "cell_type": "code",
      "source": [
        "import cmath\n",
        "\n",
        "a = float(input(\"Enter coefficient a: \"))\n",
        "b = float(input(\"Enter coefficient b: \"))\n",
        "c = float(input(\"Enter coefficient c: \"))\n",
        "\n",
        "# Calculate the discriminant\n",
        "d = (b ** 2) - (4 * a * c)\n",
        "\n",
        "# Find two solutions\n",
        "sol1 = (-b - cmath.sqrt(d)) / (2 * a)\n",
        "sol2 = (-b + cmath.sqrt(d)) / (2 * a)\n",
        "\n",
        "print(\"The solutions are {0} and {1}\".format(sol1, sol2))\n"
      ],
      "metadata": {
        "colab": {
          "base_uri": "https://localhost:8080/"
        },
        "id": "RoIlkh4UUXWv",
        "outputId": "8f7033f6-5a0f-4f46-d854-607a187b1e2a"
      },
      "execution_count": 4,
      "outputs": [
        {
          "output_type": "stream",
          "name": "stdout",
          "text": [
            "Enter coefficient a: 0.5\n",
            "Enter coefficient b: 1\n",
            "Enter coefficient c: 1.5\n",
            "The solutions are (-1-1.4142135623730951j) and (-1+1.4142135623730951j)\n"
          ]
        }
      ]
    },
    {
      "cell_type": "markdown",
      "source": [
        "Q5. Write a Python program to swap two variables without a temporary variable"
      ],
      "metadata": {
        "id": "FFIU0RZmU7hv"
      }
    },
    {
      "cell_type": "code",
      "source": [
        "a = 5\n",
        "b = 10\n",
        "print(\"Before swapping: a =\", a, \"b =\", b)\n",
        "\n",
        "a, b = b, a\n",
        "\n",
        "print(\"After swapping: a =\", a, \"b =\", b)"
      ],
      "metadata": {
        "colab": {
          "base_uri": "https://localhost:8080/"
        },
        "id": "m6EHGFzOUxef",
        "outputId": "5fb7a76d-944c-4c31-fbed-90f54e0d2db2"
      },
      "execution_count": 5,
      "outputs": [
        {
          "output_type": "stream",
          "name": "stdout",
          "text": [
            "Before swapping: a = 5 b = 10\n",
            "After swapping: a = 10 b = 5\n"
          ]
        }
      ]
    }
  ]
}